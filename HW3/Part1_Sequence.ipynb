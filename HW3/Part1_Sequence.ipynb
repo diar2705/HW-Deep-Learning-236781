{
 "cells": [
  {
   "cell_type": "markdown",
   "metadata": {},
   "source": [
    "$$\n",
    "\\newcommand{\\mat}[1]{\\boldsymbol {#1}}\n",
    "\\newcommand{\\mattr}[1]{\\boldsymbol {#1}^\\top}\n",
    "\\newcommand{\\matinv}[1]{\\boldsymbol {#1}^{-1}}\n",
    "\\newcommand{\\vec}[1]{\\boldsymbol {#1}}\n",
    "\\newcommand{\\vectr}[1]{\\boldsymbol {#1}^\\top}\n",
    "\\newcommand{\\rvar}[1]{\\mathrm {#1}}\n",
    "\\newcommand{\\rvec}[1]{\\boldsymbol{\\mathrm{#1}}}\n",
    "\\newcommand{\\diag}{\\mathop{\\mathrm {diag}}}\n",
    "\\newcommand{\\set}[1]{\\mathbb {#1}}\n",
    "\\newcommand{\\norm}[1]{\\left\\lVert#1\\right\\rVert}\n",
    "\\newcommand{\\pderiv}[2]{\\frac{\\partial #1}{\\partial #2}}\n",
    "\\newcommand{\\bb}[1]{\\boldsymbol{#1}}\n",
    "$$\n",
    "# Part 1: Sequence Models\n",
    "<a id=part1></a>"
   ]
  },
  {
   "cell_type": "markdown",
   "metadata": {},
   "source": [
    "In this part we will learn about working with text sequences using recurrent neural networks.\n",
    "We'll go from a raw text file all the way to a fully trained GRU-RNN model and generate works of art!"
   ]
  },
  {
   "cell_type": "code",
   "execution_count": 1,
   "metadata": {},
   "outputs": [],
   "source": [
    "import unittest\n",
    "import os\n",
    "import sys\n",
    "import pathlib\n",
    "import urllib\n",
    "import shutil\n",
    "import re\n",
    "\n",
    "import numpy as np\n",
    "import torch\n",
    "import matplotlib.pyplot as plt\n",
    "\n",
    "%load_ext autoreload\n",
    "%autoreload 2"
   ]
  },
  {
   "cell_type": "code",
   "execution_count": 2,
   "metadata": {},
   "outputs": [
    {
     "name": "stdout",
     "output_type": "stream",
     "text": [
      "Using device: cuda\n"
     ]
    }
   ],
   "source": [
    "test = unittest.TestCase()\n",
    "plt.rcParams.update({'font.size': 12})\n",
    "device = torch.device('cuda' if torch.cuda.is_available() else 'cpu')\n",
    "print('Using device:', device)"
   ]
  },
  {
   "cell_type": "markdown",
   "metadata": {},
   "source": [
    "## Text generation with a char-level RNN\n",
    "<a id=part1_1></a>"
   ]
  },
  {
   "cell_type": "markdown",
   "metadata": {},
   "source": [
    "### Obtaining the corpus\n",
    "<a id=part1_2></a>"
   ]
  },
  {
   "cell_type": "markdown",
   "metadata": {},
   "source": [
    "Let's begin by downloading a corpus containing all the works of William Shakespeare.\n",
    "Since he was very prolific, this corpus is fairly large and will provide us with enough data for\n",
    "obtaining impressive results."
   ]
  },
  {
   "cell_type": "code",
   "execution_count": 3,
   "metadata": {},
   "outputs": [
    {
     "name": "stdout",
     "output_type": "stream",
     "text": [
      "Corpus file /home/diar.bathish/.pytorch-datasets/shakespeare.txt exists, skipping download.\n"
     ]
    }
   ],
   "source": [
    "CORPUS_URL = 'https://github.com/cedricdeboom/character-level-rnn-datasets/raw/master/datasets/shakespeare.txt'\n",
    "DATA_DIR = pathlib.Path.home().joinpath('.pytorch-datasets')\n",
    "\n",
    "def download_corpus(out_path=DATA_DIR, url=CORPUS_URL, force=False):\n",
    "    pathlib.Path(out_path).mkdir(exist_ok=True)\n",
    "    out_filename = os.path.join(out_path, os.path.basename(url))\n",
    "    \n",
    "    if os.path.isfile(out_filename) and not force:\n",
    "        print(f'Corpus file {out_filename} exists, skipping download.')\n",
    "    else:\n",
    "        print(f'Downloading {url}...')\n",
    "        with urllib.request.urlopen(url) as response, open(out_filename, 'wb') as out_file:\n",
    "            shutil.copyfileobj(response, out_file)\n",
    "        print(f'Saved to {out_filename}.')\n",
    "    return out_filename\n",
    "    \n",
    "corpus_path = download_corpus()"
   ]
  },
  {
   "cell_type": "markdown",
   "metadata": {},
   "source": [
    "Load the text into memory and print a snippet:"
   ]
  },
  {
   "cell_type": "code",
   "execution_count": 4,
   "metadata": {},
   "outputs": [
    {
     "name": "stdout",
     "output_type": "stream",
     "text": [
      "Corpus length: 6347703 chars\n",
      "ALLS WELL THAT ENDS WELL\n",
      "\n",
      "by William Shakespeare\n",
      "\n",
      "Dramatis Personae\n",
      "\n",
      "  KING OF FRANCE\n",
      "  THE DUKE OF FLORENCE\n",
      "  BERTRAM, Count of Rousillon\n",
      "  LAFEU, an old lord\n",
      "  PAROLLES, a follower of Bertram\n",
      "  TWO FRENCH LORDS, serving with Bertram\n",
      "\n",
      "  STEWARD, Servant to the Countess of Rousillon\n",
      "  LAVACHE, a clown and Servant to the Countess of Rousillon\n",
      "  A PAGE, Servant to the Countess of Rousillon\n",
      "\n",
      "  COUNTESS OF ROUSILLON, mother to Bertram\n",
      "  HELENA, a gentlewoman protected by the Countess\n",
      "  A WIDOW OF FLORENCE.\n",
      "  DIANA, daughter to the Widow\n",
      "\n",
      "  VIOLENTA, neighbour and friend to the Widow\n",
      "  MARIANA, neighbour and friend to the Widow\n",
      "\n",
      "  Lords, Officers, Soldiers, etc., French and Florentine  \n",
      "\n",
      "SCENE:\n",
      "Rousillon; Paris; Florence; Marseilles\n",
      "\n",
      "ACT I. SCENE 1.\n",
      "Rousillon. The COUNT'S palace\n",
      "\n",
      "Enter BERTRAM, the COUNTESS OF ROUSILLON, HELENA, and LAFEU, all in black\n",
      "\n",
      "  COUNTESS. In delivering my son from me, I bury a second husband.\n",
      "  BERTRAM. And I in going, madam, weep o'er my father's death anew;\n",
      "    but I must attend his Majesty's command, to whom I am now in\n",
      "    ward, evermore in subjection.\n",
      "  LAFEU. You shall find of the King a husband, madam; you, sir, a\n",
      "    father. He that so generally is at all times good must of\n",
      "    \n"
     ]
    }
   ],
   "source": [
    "with open(corpus_path, 'r', encoding='utf-8') as f:\n",
    "    corpus = f.read()\n",
    "\n",
    "print(f'Corpus length: {len(corpus)} chars')\n",
    "print(corpus[7:1234])"
   ]
  },
  {
   "cell_type": "markdown",
   "metadata": {},
   "source": [
    "### Data Preprocessing\n",
    "<a id=part1_3></a>"
   ]
  },
  {
   "cell_type": "markdown",
   "metadata": {},
   "source": [
    "The first thing we'll need is to map from each unique character in the corpus to an index that will represent it in our learning process.\n",
    "\n",
    "**TODO**: Implement the `char_maps()` function in the `hw3/charnn.py` module."
   ]
  },
  {
   "cell_type": "code",
   "execution_count": 5,
   "metadata": {},
   "outputs": [
    {
     "name": "stdout",
     "output_type": "stream",
     "text": [
      "{'\\n': 0, ' ': 1, '!': 2, '\"': 3, '$': 4, '&': 5, \"'\": 6, '(': 7, ')': 8, ',': 9, '-': 10, '.': 11, '0': 12, '1': 13, '2': 14, '3': 15, '4': 16, '5': 17, '6': 18, '7': 19, '8': 20, '9': 21, ':': 22, ';': 23, '<': 24, '?': 25, 'A': 26, 'B': 27, 'C': 28, 'D': 29, 'E': 30, 'F': 31, 'G': 32, 'H': 33, 'I': 34, 'J': 35, 'K': 36, 'L': 37, 'M': 38, 'N': 39, 'O': 40, 'P': 41, 'Q': 42, 'R': 43, 'S': 44, 'T': 45, 'U': 46, 'V': 47, 'W': 48, 'X': 49, 'Y': 50, 'Z': 51, '[': 52, ']': 53, '_': 54, 'a': 55, 'b': 56, 'c': 57, 'd': 58, 'e': 59, 'f': 60, 'g': 61, 'h': 62, 'i': 63, 'j': 64, 'k': 65, 'l': 66, 'm': 67, 'n': 68, 'o': 69, 'p': 70, 'q': 71, 'r': 72, 's': 73, 't': 74, 'u': 75, 'v': 76, 'w': 77, 'x': 78, 'y': 79, 'z': 80, '}': 81, '\\ufeff': 82}\n"
     ]
    }
   ],
   "source": [
    "import hw3.charnn as charnn\n",
    "\n",
    "char_to_idx, idx_to_char = charnn.char_maps(corpus)\n",
    "print(char_to_idx)\n",
    "\n",
    "test.assertEqual(len(char_to_idx), len(idx_to_char))\n",
    "test.assertSequenceEqual(list(char_to_idx.keys()), list(idx_to_char.values()))\n",
    "test.assertSequenceEqual(list(char_to_idx.values()), list(idx_to_char.keys()))"
   ]
  },
  {
   "cell_type": "markdown",
   "metadata": {},
   "source": [
    "Seems we have some strange characters in the corpus that are very rare and are probably due to mistakes.\n",
    "To reduce the length of each tensor we'll need to later represent our chars, it's best to remove them.\n",
    "\n",
    "**TODO**: Implement the `remove_chars()` function in the `hw3/charnn.py` module."
   ]
  },
  {
   "cell_type": "code",
   "execution_count": 6,
   "metadata": {},
   "outputs": [
    {
     "name": "stdout",
     "output_type": "stream",
     "text": [
      "Removed 34 chars\n"
     ]
    }
   ],
   "source": [
    "corpus, n_removed = charnn.remove_chars(corpus, ['}','$','_','<','\\ufeff'])\n",
    "print(f'Removed {n_removed} chars')\n",
    "\n",
    "# After removing the chars, re-create the mappings\n",
    "char_to_idx, idx_to_char = charnn.char_maps(corpus)"
   ]
  },
  {
   "cell_type": "markdown",
   "metadata": {},
   "source": [
    "The next thing we need is an **embedding** of the chracters.\n",
    "An embedding is a representation of each token from the sequence as a tensor.\n",
    "For a char-level RNN, our tokens will be chars and we can thus use the simplest possible embedding: encode each char as a **one-hot** tensor. In other words, each char will be represented\n",
    "as a tensor whos length is the total number of unique chars (`V`) which contains all zeros except at the index\n",
    "corresponding to that specific char.\n",
    "\n",
    "**TODO**: Implement the functions `chars_to_onehot()` and `onehot_to_chars()` in the `hw3/charnn.py` module."
   ]
  },
  {
   "cell_type": "code",
   "execution_count": 7,
   "metadata": {},
   "outputs": [
    {
     "name": "stdout",
     "output_type": "stream",
     "text": [
      "brine a maiden can season her praise in.\n",
      "   \n",
      "tensor([[0, 0, 0, 0, 0, 0, 0, 0, 0, 0, 0, 0, 0, 0, 0, 0, 0, 0, 0, 0, 0, 0, 0, 0,\n",
      "         0, 0, 0, 0, 0, 0, 0, 0, 0, 0, 0, 0, 0, 0, 0, 0, 0, 0, 0, 0, 0, 0, 0, 0,\n",
      "         0, 0, 0, 0, 0, 1, 0, 0, 0, 0, 0, 0, 0, 0, 0, 0, 0, 0, 0, 0, 0, 0, 0, 0,\n",
      "         0, 0, 0, 0, 0, 0],\n",
      "        [0, 0, 0, 0, 0, 0, 0, 0, 0, 0, 0, 0, 0, 0, 0, 0, 0, 0, 0, 0, 0, 0, 0, 0,\n",
      "         0, 0, 0, 0, 0, 0, 0, 0, 0, 0, 0, 0, 0, 0, 0, 0, 0, 0, 0, 0, 0, 0, 0, 0,\n",
      "         0, 0, 0, 0, 0, 0, 0, 0, 0, 0, 0, 0, 0, 0, 0, 0, 0, 0, 0, 0, 0, 1, 0, 0,\n",
      "         0, 0, 0, 0, 0, 0],\n",
      "        [0, 0, 0, 0, 0, 0, 0, 0, 0, 0, 0, 0, 0, 0, 0, 0, 0, 0, 0, 0, 0, 0, 0, 0,\n",
      "         0, 0, 0, 0, 0, 0, 0, 0, 0, 0, 0, 0, 0, 0, 0, 0, 0, 0, 0, 0, 0, 0, 0, 0,\n",
      "         0, 0, 0, 0, 0, 0, 0, 0, 0, 0, 0, 0, 1, 0, 0, 0, 0, 0, 0, 0, 0, 0, 0, 0,\n",
      "         0, 0, 0, 0, 0, 0]], dtype=torch.int8)\n"
     ]
    }
   ],
   "source": [
    "# Wrap the actual embedding functions for calling convenience\n",
    "def embed(text):\n",
    "    return charnn.chars_to_onehot(text, char_to_idx)\n",
    "\n",
    "def unembed(embedding):\n",
    "    return charnn.onehot_to_chars(embedding, idx_to_char)\n",
    "\n",
    "text_snippet = corpus[3104:3148]\n",
    "print(text_snippet)\n",
    "print(embed(text_snippet[0:3]))\n",
    "\n",
    "test.assertEqual(text_snippet, unembed(embed(text_snippet)))\n",
    "test.assertEqual(embed(text_snippet).dtype, torch.int8)"
   ]
  },
  {
   "cell_type": "markdown",
   "metadata": {},
   "source": [
    "### Dataset Creation\n",
    "<a id=part1_4></a>"
   ]
  },
  {
   "cell_type": "markdown",
   "metadata": {},
   "source": [
    "We wish to train our model to generate text by constantly predicting what the next char should be based on the past.\n",
    "To that end we'll need to train our recurrent network in a way similar to a classification task. At each timestep, we input a char and set the expected output (label) to be the next char in the original sequence.\n",
    "\n",
    "We will split our corpus into shorter sequences of length `S` chars (see question below).\n",
    "Each **sample** we provide our model with will therefore be a tensor of shape `(S,V)` where `V` is the embedding dimension. Our model will operate sequentially on each char in the sequence.\n",
    "For each sample, we'll also need a **label**. This is simply another sequence, shifted by one char so that the label of each char is the next char in the corpus."
   ]
  },
  {
   "cell_type": "markdown",
   "metadata": {},
   "source": [
    "**TODO**: Implement the `chars_to_labelled_samples()` function in the `hw3/charnn.py` module."
   ]
  },
  {
   "cell_type": "code",
   "execution_count": 8,
   "metadata": {},
   "outputs": [
    {
     "name": "stdout",
     "output_type": "stream",
     "text": [
      "samples shape: torch.Size([99182, 64, 78])\n",
      "labels shape: torch.Size([99182, 64])\n"
     ]
    }
   ],
   "source": [
    "# Create dataset of sequences\n",
    "seq_len = 64\n",
    "vocab_len = len(char_to_idx)\n",
    "\n",
    "# Create labelled samples\n",
    "samples, labels = charnn.chars_to_labelled_samples(corpus, char_to_idx, seq_len, device)\n",
    "print(f'samples shape: {samples.shape}')\n",
    "print(f'labels shape: {labels.shape}')\n",
    "\n",
    "# Test shapes\n",
    "num_samples = (len(corpus) - 1) // seq_len\n",
    "test.assertEqual(samples.shape, (num_samples, seq_len, vocab_len))\n",
    "test.assertEqual(labels.shape, (num_samples, seq_len))\n",
    "\n",
    "# Test content\n",
    "for _ in range(1000):\n",
    "    # random sample\n",
    "    i = np.random.randint(num_samples, size=(1,))[0]\n",
    "    # Compare to corpus\n",
    "    test.assertEqual(unembed(samples[i]), corpus[i*seq_len:(i+1)*seq_len], msg=f\"content mismatch in sample {i}\")\n",
    "    # Compare to labels\n",
    "    sample_text = unembed(samples[i])\n",
    "    label_text = str.join('', [idx_to_char[j.item()] for j in labels[i]])\n",
    "    test.assertEqual(sample_text[1:], label_text[0:-1], msg=f\"label mismatch in sample {i}\")"
   ]
  },
  {
   "cell_type": "markdown",
   "metadata": {},
   "source": [
    "Let's print a few consecutive samples. You should see that the text continues between them."
   ]
  },
  {
   "cell_type": "code",
   "execution_count": 9,
   "metadata": {},
   "outputs": [
    {
     "name": "stdout",
     "output_type": "stream",
     "text": [
      "sample [26210]:\n",
      "\tta'en, And to survey the bodies of the dead. CHARLES. For\n",
      "sample [26211]:\n",
      "\tprisoners ask'st thou? Hell our prison is. But tell me whom\n",
      "sample [26212]:\n",
      "\tthou seek'st. LUCY. But where's the great Alcides of the field\n",
      "sample [26213]:\n",
      "\t, Valiant Lord Talbot, Earl of Shrewsbury, Created for h\n",
      "sample [26214]:\n",
      "\tis rare success in arms Great Earl of Washford, Waterford, a\n"
     ]
    }
   ],
   "source": [
    "import re\n",
    "import random\n",
    "\n",
    "i = random.randrange(num_samples-5)\n",
    "for i in range(i, i+5):\n",
    "    test.assertEqual(len(samples[i]), seq_len)\n",
    "    s = re.sub(r'\\s+', ' ', unembed(samples[i])).strip()\n",
    "    print(f'sample [{i}]:\\n\\t{s}')"
   ]
  },
  {
   "cell_type": "markdown",
   "metadata": {},
   "source": [
    "As usual, instead of feeding one sample at a time into our model's forward we'll work with **batches** of samples. This means that at every timestep, our model will operate on a batch of chars that are from **different sequences**.\n",
    "Effectively this will allow us to parallelize training our model by dong matrix-matrix multiplications\n",
    "instead of matrix-vector during the forward pass."
   ]
  },
  {
   "cell_type": "markdown",
   "metadata": {},
   "source": [
    "An important nuance is that we need the batches to be **contiguous**, i.e. sample $k$ in batch $j$ should continue sample $k$ from batch $j-1$.\n",
    "The following figure illustrates this:\n",
    "\n",
    "<img src=\"imgs/rnn-batching.png\"/>\n",
    "\n",
    "If we naïvely take consecutive samples into batches, e.g. `[0,1,...,B-1]`, `[B,B+1,...,2B-1]` and so on, we won't have contiguous\n",
    "sequences at the same index between adjacent batches.\n",
    "\n",
    "To accomplish this we need to tell our `DataLoader` which samples to combine together into one batch.\n",
    "We do this by implementing a custom PyTorch `Sampler`, and providing it to our `DataLoader`."
   ]
  },
  {
   "cell_type": "markdown",
   "metadata": {},
   "source": [
    "**TODO**: Implement the `SequenceBatchSampler` class in the `hw3/charnn.py` module."
   ]
  },
  {
   "cell_type": "code",
   "execution_count": 10,
   "metadata": {},
   "outputs": [
    {
     "name": "stdout",
     "output_type": "stream",
     "text": [
      "sampler_idx =\n",
      " [tensor(0), tensor(3), tensor(6), tensor(9), tensor(12), tensor(15), tensor(18), tensor(21), tensor(24), tensor(27), tensor(1), tensor(4), tensor(7), tensor(10), tensor(13), tensor(16), tensor(19), tensor(22), tensor(25), tensor(28), tensor(2), tensor(5), tensor(8), tensor(11), tensor(14), tensor(17), tensor(20), tensor(23), tensor(26), tensor(29)]\n"
     ]
    }
   ],
   "source": [
    "from hw3.charnn import SequenceBatchSampler\n",
    "\n",
    "sampler = SequenceBatchSampler(dataset=range(32), batch_size=10)\n",
    "sampler_idx = list(sampler)\n",
    "print('sampler_idx =\\n', sampler_idx)\n",
    "\n",
    "# Test the Sampler\n",
    "test.assertEqual(len(sampler_idx), 30)\n",
    "batch_idx = np.array(sampler_idx).reshape(-1, 10)\n",
    "for k in range(10):\n",
    "    test.assertEqual(np.diff(batch_idx[:, k], n=2).item(), 0)"
   ]
  },
  {
   "cell_type": "markdown",
   "metadata": {},
   "source": [
    "Even though we're working with sequences, we can still use the standard PyTorch `Dataset`/`DataLoader` combo.\n",
    "For the dataset we can use a built-in class, `TensorDataset` to return tuples of `(sample, label)`\n",
    "from the `samples` and `labels` tensors we created above.\n",
    "The `DataLoader` will be provided with our custom `Sampler` so that it generates appropriate batches."
   ]
  },
  {
   "cell_type": "code",
   "execution_count": 11,
   "metadata": {},
   "outputs": [],
   "source": [
    "import torch.utils.data\n",
    "\n",
    "# Create DataLoader returning batches of samples.\n",
    "batch_size = 32\n",
    "\n",
    "ds_corpus = torch.utils.data.TensorDataset(samples, labels)\n",
    "sampler_corpus = SequenceBatchSampler(ds_corpus, batch_size)\n",
    "dl_corpus = torch.utils.data.DataLoader(ds_corpus, batch_size=batch_size, sampler=sampler_corpus, shuffle=False)"
   ]
  },
  {
   "cell_type": "markdown",
   "metadata": {},
   "source": [
    "Let's see what that gives us:"
   ]
  },
  {
   "cell_type": "code",
   "execution_count": 12,
   "metadata": {},
   "outputs": [
    {
     "name": "stdout",
     "output_type": "stream",
     "text": [
      "num batches: 3100\n",
      "shape of a batch of samples: torch.Size([32, 64, 78])\n",
      "shape of a batch of labels: torch.Size([32, 64])\n"
     ]
    }
   ],
   "source": [
    "print(f'num batches: {len(dl_corpus)}')\n",
    "\n",
    "x0, y0 = next(iter(dl_corpus))\n",
    "print(f'shape of a batch of samples: {x0.shape}')\n",
    "print(f'shape of a batch of labels: {y0.shape}')"
   ]
  },
  {
   "cell_type": "markdown",
   "metadata": {},
   "source": [
    "Now lets look at the same sample index from multiple batches taken from our corpus."
   ]
  },
  {
   "cell_type": "code",
   "execution_count": 13,
   "metadata": {},
   "outputs": [
    {
     "name": "stdout",
     "output_type": "stream",
     "text": [
      "=== batch 0, sample 26 (torch.Size([64, 78])): ===\n",
      "\tear their plackets where they should bear their faces? Is th\n",
      "=== batch 1, sample 26 (torch.Size([64, 78])): ===\n",
      "\tere not milking-time, when you are going to bed, or kiln-hol\n",
      "=== batch 2, sample 26 (torch.Size([64, 78])): ===\n",
      "\te, to whistle off these secrets, but you must be tittle-tatt\n",
      "=== batch 3, sample 26 (torch.Size([64, 78])): ===\n",
      "\tling before all our guests? 'Tis well they are whisp'ring.\n",
      "=== batch 4, sample 26 (torch.Size([64, 78])): ===\n",
      "\tClammer your tongues, and not a word more. MOPSA. I have\n"
     ]
    }
   ],
   "source": [
    "# Check that sentences in in same index of different batches complete each other.\n",
    "k = random.randrange(batch_size)\n",
    "for j, (X, y) in enumerate(dl_corpus,):\n",
    "    print(f'=== batch {j}, sample {k} ({X[k].shape}): ===')\n",
    "    s = re.sub(r'\\s+', ' ', unembed(X[k])).strip()\n",
    "    print(f'\\t{s}')\n",
    "    if j==4: break"
   ]
  },
  {
   "cell_type": "markdown",
   "metadata": {},
   "source": [
    "### Model Implementation\n",
    "<a id=part1_5></a>"
   ]
  },
  {
   "cell_type": "markdown",
   "metadata": {},
   "source": [
    "Finally, our data set is ready so we can focus on our model.\n",
    "\n",
    "We'll implement here is a multilayer gated recurrent unit (GRU) model, with dropout.\n",
    "This model is a type of RNN which performs similar to the well-known LSTM model,\n",
    "but it's somewhat easier to train because it has less parameters.\n",
    "We'll modify the regular GRU slightly by applying dropout to\n",
    "the hidden states passed between layers of the model.\n",
    "\n",
    "The model accepts an input $\\mat{X}\\in\\set{R}^{S\\times V}$ containing a sequence of embedded chars.\n",
    "It returns an output $\\mat{Y}\\in\\set{R}^{S\\times V}$ of predictions for the next char and the final hidden state\n",
    "$\\mat{H}\\in\\set{R}^{L\\times H}$. Here $S$ is the sequence length, $V$ is the vocabulary size (number of unique chars), $L$ is the number of layers in the model and $H$ is the hidden dimension."
   ]
  },
  {
   "cell_type": "markdown",
   "metadata": {},
   "source": [
    "Mathematically, the model's forward function at layer $k\\in[1,L]$ and timestep $t\\in[1,S]$ can be described as\n",
    "\n",
    "$$\n",
    "\\begin{align}\n",
    "\\vec{z_t}^{[k]} &= \\sigma\\left(\\vec{x}^{[k]}_t {\\mattr{W}_{\\mathrm{xz}}}^{[k]} +\n",
    "    \\vec{h}_{t-1}^{[k]} {\\mattr{W}_{\\mathrm{hz}}}^{[k]} + \\vec{b}_{\\mathrm{z}}^{[k]}\\right) \\\\\n",
    "\\vec{r_t}^{[k]} &= \\sigma\\left(\\vec{x}^{[k]}_t {\\mattr{W}_{\\mathrm{xr}}}^{[k]} +\n",
    "    \\vec{h}_{t-1}^{[k]} {\\mattr{W}_{\\mathrm{hr}}}^{[k]} + \\vec{b}_{\\mathrm{r}}^{[k]}\\right) \\\\\n",
    "\\vec{g_t}^{[k]} &= \\tanh\\left(\\vec{x}^{[k]}_t {\\mattr{W}_{\\mathrm{xg}}}^{[k]} +\n",
    "    (\\vec{r_t}^{[k]}\\odot\\vec{h}_{t-1}^{[k]}) {\\mattr{W}_{\\mathrm{hg}}}^{[k]} + \\vec{b}_{\\mathrm{g}}^{[k]}\\right) \\\\\n",
    "\\vec{h_t}^{[k]} &= \\vec{z}^{[k]}_t \\odot \\vec{h}^{[k]}_{t-1} + \\left(1-\\vec{z}^{[k]}_t\\right)\\odot \\vec{g_t}^{[k]}\n",
    "\\end{align}\n",
    "$$"
   ]
  },
  {
   "cell_type": "markdown",
   "metadata": {},
   "source": [
    "The input to each layer is,\n",
    "$$\n",
    "\\mat{X}^{[k]} =\n",
    "\\begin{bmatrix}\n",
    "    {\\vec{x}_1}^{[k]} \\\\ \\vdots \\\\ {\\vec{x}_S}^{[k]}\n",
    "\\end{bmatrix} \n",
    "=\n",
    "\\begin{cases}\n",
    "    \\mat{X} & \\mathrm{if} ~k = 1~ \\\\\n",
    "    \\mathrm{dropout}_p \\left(\n",
    "    \\begin{bmatrix}\n",
    "        {\\vec{h}_1}^{[k-1]} \\\\ \\vdots \\\\ {\\vec{h}_S}^{[k-1]}\n",
    "    \\end{bmatrix} \\right) & \\mathrm{if} ~1 < k \\leq L+1~\n",
    "\\end{cases}.\n",
    "$$"
   ]
  },
  {
   "cell_type": "markdown",
   "metadata": {},
   "source": [
    "The output of the entire model is then,\n",
    "$$\n",
    "\\mat{Y} = \\mat{X}^{[L+1]} {\\mattr{W}_{\\mathrm{hy}}} + \\mat{B}_{\\mathrm{y}}\n",
    "$$"
   ]
  },
  {
   "cell_type": "markdown",
   "metadata": {},
   "source": [
    "and the final hidden state is\n",
    "$$\n",
    "\\mat{H} = \n",
    "\\begin{bmatrix}\n",
    "    {\\vec{h}_S}^{[1]} \\\\ \\vdots \\\\ {\\vec{h}_S}^{[L]}\n",
    "\\end{bmatrix}.\n",
    "$$"
   ]
  },
  {
   "cell_type": "markdown",
   "metadata": {},
   "source": [
    "Notes:\n",
    "- $t\\in[1,S]$ is the timestep, i.e. the current position within the sequence of each sample.\n",
    "- $\\vec{x}_t^{[k]}$ is the input of layer $k$ at timestep $t$, respectively.\n",
    "- The outputs of the **last layer** $\\vec{y}_t^{[L]}$, are the predicted next characters for every input char.\n",
    "  These are similar to class scores in classification tasks.\n",
    "- The hidden states at the **last timestep**, $\\vec{h}_S^{[k]}$, are the final hidden state returned from the model.\n",
    "- $\\sigma(\\cdot)$ is the sigmoid function, i.e. $\\sigma(\\vec{z}) = 1/(1+e^{-\\vec{z}})$ which returns values in $(0,1)$.\n",
    "- $\\tanh(\\cdot)$ is the hyperbolic tangent, i.e. $\\tanh(\\vec{z}) = (e^{2\\vec{z}}-1)/(e^{2\\vec{z}}+1)$ which returns values in $(-1,1)$.\n",
    "- $\\vec{h_t}^{[k]}$ is the hidden state of layer $k$ at time $t$. This can be thought of as the memory of that layer.\n",
    "- $\\vec{g_t}^{[k]}$ is the candidate hidden state for time $t+1$.\n",
    "- $\\vec{z_t}^{[k]}$ is known as the update gate. It combines the previous state with the input to determine how much the current state will be combined with the new candidate state. For example, if $\\vec{z_t}^{[k]}=\\vec{1}$ then the current input has no effect on the output.\n",
    "- $\\vec{r_t}^{[k]}$ is known as the reset gate. It combines the previous state with the input to determine how much of the previous state will affect the current state candidate. For example if $\\vec{r_t}^{[k]}=\\vec{0}$ the previous state has no effect on the current candidate state."
   ]
  },
  {
   "cell_type": "markdown",
   "metadata": {},
   "source": [
    "Here's a graphical representation of the GRU's forward pass at each timestep. The $\\vec{\\tilde{h}}$ in the image is our $\\vec{g}$ (candidate next state).\n",
    "\n",
    "<img src=\"imgs/gru_cell.png\" width=\"400\"/>\n",
    "\n",
    "You can see how the reset and update gates allow the model to completely ignore it's previous state, completely ignore it's input, or any mixture of those states (since the gates are actually continuous and between $(0,1)$)."
   ]
  },
  {
   "cell_type": "markdown",
   "metadata": {},
   "source": [
    "Here's a graphical representation of the entire model.\n",
    "You can ignore the $c_t^{[k]}$ (cell state) variables (which are relevant for LSTM models).\n",
    "Our model has only the hidden state, $h_t^{[k]}$. Also notice that we added dropout between layers (i.e., on the up arrows).\n",
    "\n",
    "<img src=\"imgs/lstm_model.png\" />\n",
    "\n",
    "The purple tensors are inputs (a sequence and initial hidden state per layer), and the green tensors are outputs (another sequence and final hidden state per layer). Each blue block implements the above forward equations.\n",
    "Blocks that are on the same vertical level are at the same layer, and therefore share parameters."
   ]
  },
  {
   "cell_type": "markdown",
   "metadata": {},
   "source": [
    "**TODO**:implement `MultilayerGRU` class in the `hw3/charnn.py` module.\n",
    "\n",
    "\n",
    "Notes:\n",
    "- We use **batches** now.\n",
    "  The math is identical to the above, but all the tensors will have an extra batch \n",
    "  dimension as their first dimension.\n",
    "- Read the diagram above, try to understand all the dimentions.\n"
   ]
  },
  {
   "cell_type": "code",
   "execution_count": 14,
   "metadata": {},
   "outputs": [
    {
     "name": "stdout",
     "output_type": "stream",
     "text": [
      "MultilayerGRU(\n",
      "  (sigmoid): Sigmoid()\n",
      "  (tanh): Tanh()\n",
      "  (W_xz_0): Linear(in_features=78, out_features=256, bias=False)\n",
      "  (W_xr_0): Linear(in_features=78, out_features=256, bias=False)\n",
      "  (W_xg_0): Linear(in_features=78, out_features=256, bias=False)\n",
      "  (W_hz_0): Linear(in_features=256, out_features=256, bias=True)\n",
      "  (W_hr_0): Linear(in_features=256, out_features=256, bias=True)\n",
      "  (W_hg_0): Linear(in_features=256, out_features=256, bias=True)\n",
      "  (W_xz_1): Linear(in_features=256, out_features=256, bias=False)\n",
      "  (W_xr_1): Linear(in_features=256, out_features=256, bias=False)\n",
      "  (W_xg_1): Linear(in_features=256, out_features=256, bias=False)\n",
      "  (W_hz_1): Linear(in_features=256, out_features=256, bias=True)\n",
      "  (W_hr_1): Linear(in_features=256, out_features=256, bias=True)\n",
      "  (W_hg_1): Linear(in_features=256, out_features=256, bias=True)\n",
      "  (W_xz_2): Linear(in_features=256, out_features=256, bias=False)\n",
      "  (W_xr_2): Linear(in_features=256, out_features=256, bias=False)\n",
      "  (W_xg_2): Linear(in_features=256, out_features=256, bias=False)\n",
      "  (W_hz_2): Linear(in_features=256, out_features=256, bias=True)\n",
      "  (W_hr_2): Linear(in_features=256, out_features=256, bias=True)\n",
      "  (W_hg_2): Linear(in_features=256, out_features=256, bias=True)\n",
      "  (out): Linear(in_features=256, out_features=78, bias=True)\n",
      ")\n",
      "y.shape=torch.Size([32, 64, 78])\n",
      "h.shape=torch.Size([32, 3, 256])\n"
     ]
    }
   ],
   "source": [
    "in_dim = vocab_len\n",
    "h_dim = 256\n",
    "n_layers = 3\n",
    "model = charnn.MultilayerGRU(in_dim, h_dim, out_dim=in_dim, n_layers=n_layers)\n",
    "model = model.to(device)\n",
    "print(model)\n",
    "\n",
    "# Test forward pass\n",
    "y, h = model(x0.to(dtype=torch.float, device=device))\n",
    "print(f'y.shape={y.shape}')\n",
    "print(f'h.shape={h.shape}')\n",
    "\n",
    "test.assertEqual(y.shape, (batch_size, seq_len, vocab_len))\n",
    "test.assertEqual(h.shape, (batch_size, n_layers, h_dim))\n",
    "test.assertEqual(len(list(model.parameters())), 9 * n_layers + 2) "
   ]
  },
  {
   "cell_type": "markdown",
   "metadata": {},
   "source": [
    "### Generating text by sampling\n",
    "<a id=part1_6></a>"
   ]
  },
  {
   "cell_type": "markdown",
   "metadata": {},
   "source": [
    "Now that we have a model, we can implement **text generation** based on it.\n",
    "The idea is simple:\n",
    "At each timestep our model receives one char $x_t$ from the input sequence and outputs scores $y_t$\n",
    "for what the next char should be.\n",
    "We'll convert these scores into a probability over each of the possible chars.\n",
    "In other words, for each input char $x_t$ we create a probability distribution for the next char\n",
    "conditioned on the current one and the state of the model (representing all previous inputs):\n",
    "$$p(x_{t+1}|x_t, \\vec{h}_t).$$\n",
    "\n",
    "Once we have such a distribution, we'll sample a char from it.\n",
    "This will be the first char of our generated sequence.\n",
    "Now we can feed this new char into the model, create another distribution, sample the next char and so on.\n",
    "Note that it's crucial to propagate the hidden state when sampling."
   ]
  },
  {
   "cell_type": "markdown",
   "metadata": {},
   "source": [
    "The important point however is how to create the distribution from the scores.\n",
    "One way, as we saw in previous ML tasks, is to use the softmax function.\n",
    "However, a drawback of softmax is that it can generate very diffuse (more uniform) distributions if the score values are very similar. When sampling, we would prefer to control the distributions and make them less uniform to increase the chance of sampling the char(s) with the highest scores compared to the others.\n",
    "\n",
    "To control the variance of the distribution, a common trick is to add a hyperparameter $T$, known as the \n",
    "*temperature* to the softmax function. The class scores are simply scaled by $T$ before softmax is applied:\n",
    "$$\n",
    "\\mathrm{softmax}_T(\\vec{y}) = \\frac{e^{\\vec{y}/T}}{\\sum_k e^{y_k/T}}\n",
    "$$\n",
    "\n",
    "A low $T$ will result in less uniform distributions and vice-versa."
   ]
  },
  {
   "cell_type": "markdown",
   "metadata": {},
   "source": [
    "**TODO**: Implement the `hot_softmax()` function in the `hw3/charnn.py` module."
   ]
  },
  {
   "cell_type": "code",
   "execution_count": 15,
   "metadata": {},
   "outputs": [
    {
     "data": {
      "image/png": "[encoded data removed]",
      "text/plain": [
       "<Figure size 1500x500 with 1 Axes>"
      ]
     },
     "metadata": {},
     "output_type": "display_data"
    }
   ],
   "source": [
    "scores = y[0,0,:].detach()\n",
    "_, ax = plt.subplots(figsize=(15,5))\n",
    "\n",
    "for t in reversed([0.3, 0.5, 1.0, 100]):\n",
    "    ax.plot(charnn.hot_softmax(scores, temperature=t).cpu().numpy(), label=f'T={t}')\n",
    "ax.set_xlabel('$x_{t+1}$')\n",
    "ax.set_ylabel('$p(x_{t+1}|x_t)$')\n",
    "ax.legend()\n",
    "\n",
    "uniform_proba = 1/len(char_to_idx)\n",
    "uniform_diff = torch.abs(charnn.hot_softmax(scores, temperature=100) - uniform_proba)\n",
    "test.assertTrue(torch.all(uniform_diff < 1e-4))"
   ]
  },
  {
   "cell_type": "markdown",
   "metadata": {},
   "source": [
    "**TODO**: Implement the `generate_from_model()` function in the `hw3/charnn.py` module."
   ]
  },
  {
   "cell_type": "code",
   "execution_count": 16,
   "metadata": {},
   "outputs": [
    {
     "name": "stdout",
     "output_type": "stream",
     "text": [
      "foobarSfLo,vJ?3-k]XxEZ9H7lKFn28H8GgTR(.p3O46tE,;E!\n",
      "foobarH,U.YMR)Ppruv&lW.1QnmqARPABI2z4CqMG,eIR?4in0\n",
      "foobarbSsZbFWCIpZFeNzmASc[yvn]7k.j;7p[T)QLv! ,-Jsp\n"
     ]
    }
   ],
   "source": [
    "for _ in range(3):\n",
    "    text = charnn.generate_from_model(model, \"foobar\", 50, (char_to_idx, idx_to_char), T=0.5)\n",
    "    print(text)\n",
    "    test.assertEqual(len(text), 50)"
   ]
  },
  {
   "cell_type": "markdown",
   "metadata": {},
   "source": [
    "### Training\n",
    "<a id=part1_7></a>"
   ]
  },
  {
   "cell_type": "markdown",
   "metadata": {},
   "source": [
    "To train this model, we'll calculate the loss at each time step by comparing the predicted char to\n",
    "the actual char from our label. We can use cross entropy since per char it's similar to a classification problem.\n",
    "We'll then sum the losses over the sequence and back-propagate the gradients though time.\n",
    "Notice that the back-propagation algorithm will \"visit\" each layer's parameter tensors multiple times,\n",
    "so we'll accumulate gradients in parameters of the blocks. Luckily `autograd` will handle this part for us."
   ]
  },
  {
   "cell_type": "markdown",
   "metadata": {},
   "source": [
    "As usual, the first step of training will be to try and **overfit** a large model (many parameters) to a tiny dataset.\n",
    "Again, this is to ensure the model and training code are implemented correctly, i.e. that the model can learn.\n",
    "\n",
    "For a generative model such as this, overfitting is slightly trickier than for classification.\n",
    "What we'll aim to do is to get our model to **memorize** a specific sequence of chars, so that when given the first\n",
    "char in the sequence it will immediately spit out the rest of the sequence verbatim.\n",
    "\n",
    "Let's create a tiny dataset to memorize."
   ]
  },
  {
   "cell_type": "code",
   "execution_count": 17,
   "metadata": {},
   "outputs": [
    {
     "name": "stdout",
     "output_type": "stream",
     "text": [
      "Text to \"memorize\":\n",
      "\n",
      "TRAM. What would you have?\n",
      "  HELENA. Something; and scarce so much; nothing, indeed.\n",
      "    I would not tell you what I would, my lord.\n",
      "    Faith, yes:\n",
      "    Strangers and foes do sunder and not kiss.\n",
      "  BERTRAM. I pray you, stay not, but in haste to horse.\n",
      "  HE\n"
     ]
    }
   ],
   "source": [
    "# Pick a tiny subset of the dataset\n",
    "subset_start, subset_end = 1001, 1005\n",
    "ds_corpus_ss = torch.utils.data.Subset(ds_corpus, range(subset_start, subset_end))\n",
    "batch_size_ss = 1\n",
    "sampler_ss = SequenceBatchSampler(ds_corpus_ss, batch_size=batch_size_ss)\n",
    "dl_corpus_ss = torch.utils.data.DataLoader(ds_corpus_ss, batch_size_ss, sampler=sampler_ss, shuffle=False)\n",
    "\n",
    "# Convert subset to text\n",
    "subset_text = ''\n",
    "for i in range(subset_end - subset_start):\n",
    "    subset_text += unembed(ds_corpus_ss[i][0])\n",
    "print(f'Text to \"memorize\":\\n\\n{subset_text}')"
   ]
  },
  {
   "cell_type": "markdown",
   "metadata": {},
   "source": [
    "Now let's implement the first part of our training code.\n",
    "\n",
    "**TODO**: Implement the `train_epoch()` and `train_batch()` methods of the `RNNTrainer` class in the `hw3/training.py` module. \n",
    "You must think about how to correctly handle the hidden state of the model between batches and epochs for this specific task (i.e. text generation)."
   ]
  },
  {
   "cell_type": "code",
   "execution_count": 18,
   "metadata": {},
   "outputs": [
    {
     "name": "stdout",
     "output_type": "stream",
     "text": [
      "\n",
      "Epoch #1: Avg. loss = 3.954, Accuracy = 18.36%\n",
      "Twn                                               n                                                                                                                                                                                                             \n",
      "\n",
      "Epoch #25: Avg. loss = 0.667, Accuracy = 82.81%\n",
      "TRAM. What would yould yould you have?\n",
      "  HELENA. Something; and nothing; and nothing, indeed.\n",
      "    I would not would yould not would nothing, indeed.\n",
      "    I would not would nothing, indee andee nothing, indeed.\n",
      "    I would nothing, indee andee nothing, indee\n",
      "\n",
      "Epoch #50: Avg. loss = 0.019, Accuracy = 100.00%\n",
      "TRAM. What would you have?\n",
      "  HELENA. Something; and scarce so much; nothing, indeed.\n",
      "    I would not tell you what I would, my lord.\n",
      "    Faith, yes:\n",
      "    Strangers and foes do sunder and not kiss.\n",
      "  BERTRAM. I pray you, stay not, but in haste to horse.\n",
      "  HE\n"
     ]
    }
   ],
   "source": [
    "import torch.nn as nn\n",
    "import torch.optim as optim\n",
    "from hw3.training import RNNTrainer\n",
    "\n",
    "torch.manual_seed(42)\n",
    "\n",
    "lr = 0.01\n",
    "num_epochs = 500\n",
    "\n",
    "in_dim = vocab_len\n",
    "h_dim = 128\n",
    "n_layers = 2\n",
    "loss_fn = nn.CrossEntropyLoss()\n",
    "model = charnn.MultilayerGRU(in_dim, h_dim, out_dim=in_dim, n_layers=n_layers).to(device)\n",
    "optimizer = optim.Adam(model.parameters(), lr=lr)\n",
    "trainer = RNNTrainer(model, loss_fn, optimizer, device)\n",
    "\n",
    "for epoch in range(num_epochs):\n",
    "    epoch_result = trainer.train_epoch(dl_corpus_ss, verbose=False)\n",
    "    \n",
    "    # Every X epochs, we'll generate a sequence starting from the first char in the first sequence\n",
    "    # to visualize how/if/what the model is learning.\n",
    "    if epoch == 0 or (epoch+1) % 25 == 0:\n",
    "        avg_loss = np.mean(epoch_result.losses)\n",
    "        accuracy = np.mean(epoch_result.accuracy)\n",
    "        print(f'\\nEpoch #{epoch+1}: Avg. loss = {avg_loss:.3f}, Accuracy = {accuracy:.2f}%')\n",
    "        \n",
    "        generated_sequence = charnn.generate_from_model(model, subset_text[0],\n",
    "                                                        seq_len*(subset_end-subset_start),\n",
    "                                                        (char_to_idx,idx_to_char), T=0.1)\n",
    "        \n",
    "        # Stop if we've successfully memorized the small dataset.\n",
    "        print(generated_sequence)\n",
    "        if generated_sequence == subset_text:\n",
    "            break\n",
    "\n",
    "# Test successful overfitting\n",
    "test.assertGreater(epoch_result.accuracy, 99)\n",
    "test.assertEqual(generated_sequence, subset_text)"
   ]
  },
  {
   "cell_type": "markdown",
   "metadata": {},
   "source": [
    "OK, so training works - we can memorize a short sequence.\n",
    "We'll now train a much larger model on our large dataset. You'll need a GPU for this part.\n",
    "\n",
    "First, lets set up our dataset and models for training.\n",
    "We'll split our corpus into 90% train and 10% test-set.\n",
    "Also, we'll use a learning-rate scheduler to control the learning rate during training."
   ]
  },
  {
   "cell_type": "markdown",
   "metadata": {},
   "source": [
    "**TODO**: Set the hyperparameters in the `part1_rnn_hyperparams()` function of the `hw3/answers.py` module."
   ]
  },
  {
   "cell_type": "code",
   "execution_count": 19,
   "metadata": {},
   "outputs": [
    {
     "name": "stdout",
     "output_type": "stream",
     "text": [
      "hyperparams:\n",
      " {'batch_size': 256, 'seq_len': 128, 'h_dim': 1024, 'n_layers': 2, 'dropout': 0.2, 'learn_rate': 0.0005, 'lr_sched_factor': 0.05, 'lr_sched_patience': 0.5}\n",
      "Train: 174 batches, 5701632 chars\n",
      "Test:   19 batches,  622592 chars\n"
     ]
    }
   ],
   "source": [
    "from hw3.answers import part1_rnn_hyperparams\n",
    "\n",
    "hp = part1_rnn_hyperparams()\n",
    "print('hyperparams:\\n', hp)\n",
    "\n",
    "\n",
    "### Dataset definition\n",
    "vocab_len = len(char_to_idx)\n",
    "batch_size = hp['batch_size']\n",
    "seq_len = hp['seq_len']\n",
    "train_test_ratio = 0.9\n",
    "num_samples = (len(corpus) - 1) // seq_len\n",
    "num_train = int(train_test_ratio * num_samples)\n",
    "\n",
    "samples, labels = charnn.chars_to_labelled_samples(corpus, char_to_idx, seq_len, device)\n",
    "\n",
    "ds_train = torch.utils.data.TensorDataset(samples[:num_train], labels[:num_train])\n",
    "sampler_train = SequenceBatchSampler(ds_train, batch_size)\n",
    "dl_train = torch.utils.data.DataLoader(ds_train, batch_size, shuffle=False, sampler=sampler_train, drop_last=True)\n",
    "\n",
    "ds_test = torch.utils.data.TensorDataset(samples[num_train:], labels[num_train:])\n",
    "sampler_test = SequenceBatchSampler(ds_test, batch_size)\n",
    "dl_test = torch.utils.data.DataLoader(ds_test, batch_size, shuffle=False, sampler=sampler_test, drop_last=True)\n",
    "\n",
    "print(f'Train: {len(dl_train):3d} batches, {len(dl_train)*batch_size*seq_len:7d} chars')\n",
    "print(f'Test:  {len(dl_test):3d} batches, {len(dl_test)*batch_size*seq_len:7d} chars')\n",
    "\n",
    "### Training definition\n",
    "in_dim = out_dim = vocab_len\n",
    "checkpoint_file = 'checkpoints/rnn'\n",
    "num_epochs = 50\n",
    "early_stopping = 5\n",
    "\n",
    "model = charnn.MultilayerGRU(in_dim, hp['h_dim'], out_dim, hp['n_layers'], hp['dropout'])\n",
    "loss_fn = nn.CrossEntropyLoss()\n",
    "optimizer = optim.Adam(model.parameters(), lr=hp['learn_rate'])\n",
    "scheduler = optim.lr_scheduler.ReduceLROnPlateau(\n",
    "    optimizer, mode='max', factor=hp['lr_sched_factor'], patience=hp['lr_sched_patience'], verbose=True\n",
    ")\n",
    "trainer = RNNTrainer(model, loss_fn, optimizer, device)"
   ]
  },
  {
   "cell_type": "markdown",
   "metadata": {},
   "source": [
    "The code blocks below will train the model and save checkpoints containing the training state and the best model parameters to a file. This allows you to stop training and resume it later from where you left.\n",
    "\n",
    "Note that you can use the `main.py` script provided within the assignment folder to run this notebook from the command line as if it were a python script by using the `run-nb` subcommand. This allows you to train your model using this notebook without starting jupyter. You can combine this with `srun` or `sbatch` to run the notebook with a GPU on the course servers."
   ]
  },
  {
   "cell_type": "markdown",
   "metadata": {},
   "source": [
    "**TODO**:\n",
    "- Implement the `fit()` method of the `Trainer` class. You can reuse the relevant implementation parts from HW2, but make sure to implement early stopping and checkpoints.\n",
    "- Implement the `test_epoch()` and `test_batch()` methods of the `RNNTrainer` class in the `hw3/training.py` module.\n",
    "- Run the following block to train.\n",
    "- When training is done and you're satisfied with the model's outputs, rename the checkpoint file to `checkpoints/rnn_final.pt`.\n",
    "  This will cause the block to skip training and instead load your saved model when running the homework submission script.\n",
    "  Note that your submission zip file will not include the checkpoint file. This is OK."
   ]
  },
  {
   "cell_type": "code",
   "execution_count": 20,
   "metadata": {},
   "outputs": [
    {
     "name": "stdout",
     "output_type": "stream",
     "text": [
      "ACT I.OxXxSNq:][RfwcG.oVf(\"QmeP&\"o0exVK,j\n",
      "l.9M;ihJaAEzX;\n",
      "vhKk&fs?88b!\"R!pTR?vyON)2MQocR&&M4C'01ni7vb\n",
      "--- EPOCH 1/50 ---\n",
      "train_batch (Avg. Loss 2.513, Accuracy 33.6): 100%|███████████████████████████████████████████████████████████████████████████████████| 174/174 [01:16<00:00,  2.27it/s]\n",
      "test_batch (Avg. Loss 2.215, Accuracy 36.2): 100%|██████████████████████████████████████████████████████████████████████████████████████| 19/19 [00:03<00:00,  6.19it/s]\n",
      "*** Saved checkpoint checkpoints/rnn.pt at epoch 1\n",
      "ACT I. Come the werpen the a whe her not beat and not\n",
      "    And the king to me in dean wall pold mance\n",
      "--- EPOCH 2/50 ---\n",
      "train_batch (Avg. Loss 1.806, Accuracy 47.3): 100%|███████████████████████████████████████████████████████████████████████████████████| 174/174 [01:15<00:00,  2.29it/s]\n",
      "test_batch (Avg. Loss 1.854, Accuracy 44.5): 100%|██████████████████████████████████████████████████████████████████████████████████████| 19/19 [00:03<00:00,  6.33it/s]\n",
      "*** Saved checkpoint checkpoints/rnn.pt at epoch 2\n",
      "ACT I. The king and sond\n",
      "    That to the dound of your great to his sone.\n",
      "                          \n",
      "--- EPOCH 3/50 ---\n",
      "train_batch (Avg. Loss 1.565, Accuracy 53.6): 100%|███████████████████████████████████████████████████████████████████████████████████| 174/174 [01:15<00:00,  2.30it/s]\n",
      "test_batch (Avg. Loss 1.655, Accuracy 49.8): 100%|██████████████████████████████████████████████████████████████████████████████████████| 19/19 [00:02<00:00,  6.37it/s]\n",
      "*** Saved checkpoint checkpoints/rnn.pt at epoch 3\n",
      "ACT I. And the world of action\n",
      "    Which I seave the terrow poor of the lade of the exement.\n",
      "       \n",
      "--- EPOCH 4/50 ---\n",
      "train_batch (Avg. Loss 1.417, Accuracy 57.6): 100%|███████████████████████████████████████████████████████████████████████████████████| 174/174 [01:16<00:00,  2.29it/s]\n",
      "test_batch (Avg. Loss 1.528, Accuracy 53.2): 100%|██████████████████████████████████████████████████████████████████████████████████████| 19/19 [00:02<00:00,  6.37it/s]\n",
      "*** Saved checkpoint checkpoints/rnn.pt at epoch 4\n",
      "ACT I.\n",
      "                                                                                             \n",
      "--- EPOCH 5/50 ---\n",
      "train_batch (Avg. Loss 1.326, Accuracy 59.9): 100%|███████████████████████████████████████████████████████████████████████████████████| 174/174 [01:15<00:00,  2.29it/s]\n",
      "test_batch (Avg. Loss 1.451, Accuracy 55.2): 100%|██████████████████████████████████████████████████████████████████████████████████████| 19/19 [00:02<00:00,  6.36it/s]\n",
      "*** Saved checkpoint checkpoints/rnn.pt at epoch 5\n",
      "ACT I. She was a truth.\n",
      "\n",
      "Second Cassio.\n",
      "\n",
      "All us he hear my friends.\n",
      "\n",
      "  For England.\n",
      "\n",
      "               \n",
      "--- EPOCH 6/50 ---\n",
      "train_batch (Avg. Loss 1.266, Accuracy 61.4): 100%|███████████████████████████████████████████████████████████████████████████████████| 174/174 [01:15<00:00,  2.29it/s]\n",
      "test_batch (Avg. Loss 1.403, Accuracy 56.4): 100%|██████████████████████████████████████████████████████████████████████████████████████| 19/19 [00:02<00:00,  6.36it/s]\n",
      "*** Saved checkpoint checkpoints/rnn.pt at epoch 6\n",
      "ACT I. Speak.\n",
      "\n",
      "                                   Enter CLARENCE, and the KING\n",
      "\n",
      "    Morrow, I will b\n",
      "--- EPOCH 7/50 ---\n",
      "train_batch (Avg. Loss 1.221, Accuracy 62.5): 100%|███████████████████████████████████████████████████████████████████████████████████| 174/174 [01:15<00:00,  2.29it/s]\n",
      "test_batch (Avg. Loss 1.365, Accuracy 57.4): 100%|██████████████████████████████████████████████████████████████████████████████████████| 19/19 [00:03<00:00,  6.31it/s]\n",
      "*** Saved checkpoint checkpoints/rnn.pt at epoch 7\n",
      "ACT I. So would you have you this\n",
      "    man is the way to her the Duke of Manabalice and the powers\n",
      "  \n",
      "--- EPOCH 8/50 ---\n",
      "train_batch (Avg. Loss 1.187, Accuracy 63.4): 100%|███████████████████████████████████████████████████████████████████████████████████| 174/174 [01:15<00:00,  2.30it/s]\n",
      "test_batch (Avg. Loss 1.335, Accuracy 58.1): 100%|██████████████████████████████████████████████████████████████████████████████████████| 19/19 [00:02<00:00,  6.37it/s]\n",
      "*** Saved checkpoint checkpoints/rnn.pt at epoch 8\n",
      "ACT I. She is no servant\n",
      "  That parts the thing to see his hand and true here.\n",
      "\n",
      "                    \n",
      "--- EPOCH 9/50 ---\n",
      "train_batch (Avg. Loss 1.159, Accuracy 64.0): 100%|███████████████████████████████████████████████████████████████████████████████████| 174/174 [01:15<00:00,  2.30it/s]\n",
      "test_batch (Avg. Loss 1.311, Accuracy 58.6): 100%|██████████████████████████████████████████████████████████████████████████████████████| 19/19 [00:02<00:00,  6.39it/s]\n",
      "*** Saved checkpoint checkpoints/rnn.pt at epoch 9\n",
      "ACT I.\n",
      "                                                                                             \n",
      "--- EPOCH 10/50 ---\n",
      "train_batch (Avg. Loss 1.134, Accuracy 64.7): 100%|███████████████████████████████████████████████████████████████████████████████████| 174/174 [01:15<00:00,  2.29it/s]\n",
      "test_batch (Avg. Loss 1.291, Accuracy 59.1): 100%|██████████████████████████████████████████████████████████████████████████████████████| 19/19 [00:03<00:00,  6.33it/s]\n",
      "*** Saved checkpoint checkpoints/rnn.pt at epoch 10\n",
      "ACT I. SCENE I.\n",
      "\n",
      "                                                              Enter a MESSENGER\n",
      "\n",
      "  \n",
      "--- EPOCH 11/50 ---\n",
      "train_batch (Avg. Loss 1.113, Accuracy 65.2): 100%|███████████████████████████████████████████████████████████████████████████████████| 174/174 [01:15<00:00,  2.29it/s]\n",
      "test_batch (Avg. Loss 1.275, Accuracy 59.5): 100%|██████████████████████████████████████████████████████████████████████████████████████| 19/19 [00:02<00:00,  6.36it/s]\n",
      "*** Saved checkpoint checkpoints/rnn.pt at epoch 11\n",
      "ACT I. Pardon me, and all the son\n",
      "                                                                  \n",
      "--- EPOCH 12/50 ---\n",
      "train_batch (Avg. Loss 1.095, Accuracy 65.7): 100%|███████████████████████████████████████████████████████████████████████████████████| 174/174 [01:16<00:00,  2.29it/s]\n",
      "test_batch (Avg. Loss 1.262, Accuracy 59.9): 100%|██████████████████████████████████████████████████████████████████████████████████████| 19/19 [00:02<00:00,  6.39it/s]\n",
      "*** Saved checkpoint checkpoints/rnn.pt at epoch 12\n",
      "ACT I. SCENE I.\n",
      "\n",
      "    Here comes your Highness.\n",
      "  CASSIUS. A lover of good royal prince, than you are\n",
      "--- EPOCH 13/50 ---\n",
      "train_batch (Avg. Loss 1.080, Accuracy 66.1): 100%|███████████████████████████████████████████████████████████████████████████████████| 174/174 [01:15<00:00,  2.29it/s]\n",
      "test_batch (Avg. Loss 1.253, Accuracy 60.2): 100%|██████████████████████████████████████████████████████████████████████████████████████| 19/19 [00:03<00:00,  6.31it/s]\n",
      "*** Saved checkpoint checkpoints/rnn.pt at epoch 13\n",
      "ACT I. SCENE 1.\n",
      "\n",
      "                                                         Enter a MESSENGER\n",
      "\n",
      "    Som\n",
      "--- EPOCH 14/50 ---\n",
      "train_batch (Avg. Loss 1.066, Accuracy 66.5): 100%|███████████████████████████████████████████████████████████████████████████████████| 174/174 [01:16<00:00,  2.29it/s]\n",
      "test_batch (Avg. Loss 1.243, Accuracy 60.4): 100%|██████████████████████████████████████████████████████████████████████████████████████| 19/19 [00:03<00:00,  6.32it/s]\n",
      "*** Saved checkpoint checkpoints/rnn.pt at epoch 14\n",
      "ACT I. Score and hearts.\n",
      "\n",
      "                              Enter a SERVANT\n",
      "\n",
      "  SECOND SERVANT. Here come\n",
      "--- EPOCH 15/50 ---\n",
      "train_batch (Avg. Loss 1.052, Accuracy 66.9): 100%|███████████████████████████████████████████████████████████████████████████████████| 174/174 [01:15<00:00,  2.30it/s]\n",
      "test_batch (Avg. Loss 1.233, Accuracy 60.7): 100%|██████████████████████████████████████████████████████████████████████████████████████| 19/19 [00:02<00:00,  6.36it/s]\n",
      "*** Saved checkpoint checkpoints/rnn.pt at epoch 15\n",
      "ACT I. Speak so.\n",
      "                                                                   Exit\n",
      "  ANTONY. W\n",
      "--- EPOCH 16/50 ---\n",
      "train_batch (Avg. Loss 1.038, Accuracy 67.3): 100%|███████████████████████████████████████████████████████████████████████████████████| 174/174 [01:15<00:00,  2.30it/s]\n",
      "test_batch (Avg. Loss 1.225, Accuracy 60.9): 100%|██████████████████████████████████████████████████████████████████████████████████████| 19/19 [00:02<00:00,  6.36it/s]\n",
      "*** Saved checkpoint checkpoints/rnn.pt at epoch 16\n",
      "ACT I. SCENE I.\n",
      "\n",
      "                                                            Enter HELENA\n",
      "\n",
      "    How n\n",
      "--- EPOCH 17/50 ---\n",
      "train_batch (Avg. Loss 1.025, Accuracy 67.6): 100%|███████████████████████████████████████████████████████████████████████████████████| 174/174 [01:15<00:00,  2.30it/s]\n",
      "test_batch (Avg. Loss 1.219, Accuracy 61.1): 100%|██████████████████████████████████████████████████████████████████████████████████████| 19/19 [00:02<00:00,  6.36it/s]\n",
      "*** Saved checkpoint checkpoints/rnn.pt at epoch 17\n",
      "ACT I. SCENE I.\n",
      "\n",
      "                                     Re-enter SALISBURY\n",
      "\n",
      "    Sirrah, what say you t\n",
      "--- EPOCH 18/50 ---\n",
      "train_batch (Avg. Loss 1.013, Accuracy 68.0): 100%|███████████████████████████████████████████████████████████████████████████████████| 174/174 [01:16<00:00,  2.29it/s]\n",
      "test_batch (Avg. Loss 1.214, Accuracy 61.3): 100%|██████████████████████████████████████████████████████████████████████████████████████| 19/19 [00:02<00:00,  6.41it/s]\n",
      "*** Saved checkpoint checkpoints/rnn.pt at epoch 18\n",
      "ACT I. So they should say,\n",
      "                                                                         \n",
      "--- EPOCH 19/50 ---\n",
      "train_batch (Avg. Loss 1.003, Accuracy 68.3): 100%|███████████████████████████████████████████████████████████████████████████████████| 174/174 [01:16<00:00,  2.28it/s]\n",
      "test_batch (Avg. Loss 1.209, Accuracy 61.5): 100%|██████████████████████████████████████████████████████████████████████████████████████| 19/19 [00:02<00:00,  6.35it/s]\n",
      "*** Saved checkpoint checkpoints/rnn.pt at epoch 19\n",
      "ACT I. SCENE I.\n",
      "\n",
      "                                        Enter SERVANTS\n",
      "\n",
      "    Here comes the Cardinal\n",
      "--- EPOCH 20/50 ---\n",
      "train_batch (Avg. Loss 0.991, Accuracy 68.6): 100%|███████████████████████████████████████████████████████████████████████████████████| 174/174 [01:15<00:00,  2.29it/s]\n",
      "test_batch (Avg. Loss 1.204, Accuracy 61.7): 100%|██████████████████████████████████████████████████████████████████████████████████████| 19/19 [00:02<00:00,  6.36it/s]\n",
      "*** Saved checkpoint checkpoints/rnn.pt at epoch 20\n",
      "ACT I. SCENE I.\n",
      "\n",
      "                                                      Enter a POST\n",
      "\n",
      "  CAESAR. Where\n",
      "--- EPOCH 21/50 ---\n",
      "train_batch (Avg. Loss 0.981, Accuracy 68.9): 100%|███████████████████████████████████████████████████████████████████████████████████| 174/174 [01:15<00:00,  2.30it/s]\n",
      "test_batch (Avg. Loss 1.205, Accuracy 61.7): 100%|██████████████████████████████████████████████████████████████████████████████████████| 19/19 [00:02<00:00,  6.36it/s]\n",
      "*** Saved checkpoint checkpoints/rnn.pt at epoch 21\n",
      "ACT I.\n",
      "A man of Corioli had with him.\n",
      "\n",
      "Enter Capulet and Dunsinane and Cornelius.\n",
      "\n",
      "  LADY MACBETH. B\n",
      "--- EPOCH 22/50 ---\n",
      "train_batch (Avg. Loss 0.972, Accuracy 69.2): 100%|███████████████████████████████████████████████████████████████████████████████████| 174/174 [01:15<00:00,  2.29it/s]\n",
      "test_batch (Avg. Loss 1.202, Accuracy 61.8): 100%|██████████████████████████████████████████████████████████████████████████████████████| 19/19 [00:03<00:00,  6.33it/s]\n",
      "*** Saved checkpoint checkpoints/rnn.pt at epoch 22\n",
      "ACT I. So do I the world, sir.\n",
      "    But the good Duke of Gloucester's death are here.\n",
      "    The hour of\n",
      "--- EPOCH 23/50 ---\n",
      "train_batch (Avg. Loss 0.962, Accuracy 69.5): 100%|███████████████████████████████████████████████████████████████████████████████████| 174/174 [01:15<00:00,  2.30it/s]\n",
      "test_batch (Avg. Loss 1.194, Accuracy 62.1): 100%|██████████████████████████████████████████████████████████████████████████████████████| 19/19 [00:02<00:00,  6.38it/s]\n",
      "*** Saved checkpoint checkpoints/rnn.pt at epoch 23\n",
      "ACT I. SCENE I.\n",
      "\n",
      "                                                                     Enter a MESSEN\n",
      "--- EPOCH 24/50 ---\n",
      "train_batch (Avg. Loss 0.952, Accuracy 69.8): 100%|███████████████████████████████████████████████████████████████████████████████████| 174/174 [01:15<00:00,  2.30it/s]\n",
      "test_batch (Avg. Loss 1.191, Accuracy 62.2): 100%|██████████████████████████████████████████████████████████████████████████████████████| 19/19 [00:02<00:00,  6.35it/s]\n",
      "*** Saved checkpoint checkpoints/rnn.pt at epoch 24\n",
      "ACT I. Soldiers\n",
      "\n",
      "  ORLANDO. I love thee, for I will leave it a word. I will not\n",
      "    some say you wil\n",
      "--- EPOCH 25/50 ---\n",
      "train_batch (Avg. Loss 0.943, Accuracy 70.1): 100%|███████████████████████████████████████████████████████████████████████████████████| 174/174 [01:15<00:00,  2.29it/s]\n",
      "test_batch (Avg. Loss 1.188, Accuracy 62.3): 100%|██████████████████████████████████████████████████████████████████████████████████████| 19/19 [00:02<00:00,  6.38it/s]\n",
      "*** Saved checkpoint checkpoints/rnn.pt at epoch 25\n",
      "ACT I. SCENE I.\n",
      "\n",
      "  BRABANTIO.                                                                       \n",
      "--- EPOCH 26/50 ---\n",
      "train_batch (Avg. Loss 0.932, Accuracy 70.4): 100%|███████████████████████████████████████████████████████████████████████████████████| 174/174 [01:15<00:00,  2.29it/s]\n",
      "test_batch (Avg. Loss 1.197, Accuracy 62.2): 100%|██████████████████████████████████████████████████████████████████████████████████████| 19/19 [00:02<00:00,  6.39it/s]\n",
      "Epoch    26: reducing learning rate of group 0 to 2.5000e-05.\n",
      "ACT I. SCENE I.\n",
      "\n",
      "                                  ANGELO\n",
      "\n",
      "  PANDARUS. Here is the garden more.\n",
      "  PA\n",
      "--- EPOCH 27/50 ---\n",
      "train_batch (Avg. Loss 0.898, Accuracy 71.5): 100%|███████████████████████████████████████████████████████████████████████████████████| 174/174 [01:15<00:00,  2.30it/s]\n",
      "test_batch (Avg. Loss 1.152, Accuracy 63.5): 100%|██████████████████████████████████████████████████████████████████████████████████████| 19/19 [00:02<00:00,  6.35it/s]\n",
      "*** Saved checkpoint checkpoints/rnn.pt at epoch 27\n",
      "ACT I. And yet, I thank you.\n",
      "\n",
      "  MIRANDA. No more.\n",
      "                                                  \n",
      "--- EPOCH 28/50 ---\n",
      "train_batch (Avg. Loss 0.886, Accuracy 71.9): 100%|███████████████████████████████████████████████████████████████████████████████████| 174/174 [01:15<00:00,  2.29it/s]\n",
      "test_batch (Avg. Loss 1.150, Accuracy 63.5): 100%|██████████████████████████████████████████████████████████████████████████████████████| 19/19 [00:02<00:00,  6.35it/s]\n",
      "*** Saved checkpoint checkpoints/rnn.pt at epoch 28\n",
      "ACT I. SCENE I.\n",
      "London. The poll, and the prisoners.\n",
      "\n",
      "Enter the KING, the DUKE OF BUCKINGHAM,\n",
      "With d\n",
      "--- EPOCH 29/50 ---\n",
      "train_batch (Avg. Loss 0.882, Accuracy 72.1): 100%|███████████████████████████████████████████████████████████████████████████████████| 174/174 [01:15<00:00,  2.30it/s]\n",
      "test_batch (Avg. Loss 1.149, Accuracy 63.6): 100%|██████████████████████████████████████████████████████████████████████████████████████| 19/19 [00:02<00:00,  6.36it/s]\n",
      "*** Saved checkpoint checkpoints/rnn.pt at epoch 29\n",
      "ACT I. SCENE I.\n",
      "\n",
      "Enter FRENCH SOLDIERS of WILES\n",
      "\n",
      "  THERSITES. Here comes my son Antipodus may be the\n",
      "--- EPOCH 30/50 ---\n",
      "train_batch (Avg. Loss 0.880, Accuracy 72.1): 100%|███████████████████████████████████████████████████████████████████████████████████| 174/174 [01:15<00:00,  2.29it/s]\n",
      "test_batch (Avg. Loss 1.148, Accuracy 63.6): 100%|██████████████████████████████████████████████████████████████████████████████████████| 19/19 [00:02<00:00,  6.35it/s]\n",
      "*** Saved checkpoint checkpoints/rnn.pt at epoch 30\n",
      "ACT I. SCENE I.\n",
      "\n",
      "Second Citizen:\n",
      "A fortnight a weak wind of sense, that the gallant\n",
      "    becomes a li\n",
      "--- EPOCH 31/50 ---\n",
      "train_batch (Avg. Loss 0.878, Accuracy 72.2): 100%|███████████████████████████████████████████████████████████████████████████████████| 174/174 [01:15<00:00,  2.29it/s]\n",
      "test_batch (Avg. Loss 1.148, Accuracy 63.6): 100%|██████████████████████████████████████████████████████████████████████████████████████| 19/19 [00:02<00:00,  6.36it/s]\n",
      "*** Saved checkpoint checkpoints/rnn.pt at epoch 31\n",
      "ACT I. Scene I.\n",
      "A third of strength indeed as they had seen\n",
      "The park of the air.\n",
      "\n",
      "Enter, in faith, t\n",
      "--- EPOCH 32/50 ---\n",
      "train_batch (Avg. Loss 0.876, Accuracy 72.3): 100%|███████████████████████████████████████████████████████████████████████████████████| 174/174 [01:16<00:00,  2.29it/s]\n",
      "test_batch (Avg. Loss 1.148, Accuracy 63.6): 100%|██████████████████████████████████████████████████████████████████████████████████████| 19/19 [00:02<00:00,  6.38it/s]\n",
      "*** Saved checkpoint checkpoints/rnn.pt at epoch 32\n",
      "ACT I. Scene I.\n",
      "    A goodly play.\n",
      "  ANTONY. The business, my liege, that we may agen\n",
      "    For their \n",
      "--- EPOCH 33/50 ---\n",
      "train_batch (Avg. Loss 0.875, Accuracy 72.3): 100%|███████████████████████████████████████████████████████████████████████████████████| 174/174 [01:15<00:00,  2.30it/s]\n",
      "test_batch (Avg. Loss 1.148, Accuracy 63.6): 100%|██████████████████████████████████████████████████████████████████████████████████████| 19/19 [00:02<00:00,  6.35it/s]\n",
      "*** Saved checkpoint checkpoints/rnn.pt at epoch 33\n",
      "Epoch    33: reducing learning rate of group 0 to 1.2500e-06.\n",
      "ACT I. SCENE I.\n",
      "The park\n",
      "\n",
      "Enter SOLDIERS with drum and torches of the Castle.\n",
      "\n",
      "Enter the three Witch\n",
      "--- EPOCH 34/50 ---\n",
      "train_batch (Avg. Loss 0.871, Accuracy 72.5): 100%|███████████████████████████████████████████████████████████████████████████████████| 174/174 [01:15<00:00,  2.30it/s]\n",
      "test_batch (Avg. Loss 1.147, Accuracy 63.7): 100%|██████████████████████████████████████████████████████████████████████████████████████| 19/19 [00:02<00:00,  6.37it/s]\n",
      "*** Saved checkpoint checkpoints/rnn.pt at epoch 34\n",
      "ACT I. Scene I.\n",
      "\n",
      "                                   SCENE IV.\n",
      "                                      \n",
      "--- EPOCH 35/50 ---\n",
      "train_batch (Avg. Loss 0.870, Accuracy 72.5): 100%|███████████████████████████████████████████████████████████████████████████████████| 174/174 [01:15<00:00,  2.31it/s]\n",
      "test_batch (Avg. Loss 1.146, Accuracy 63.7): 100%|██████████████████████████████████████████████████████████████████████████████████████| 19/19 [00:02<00:00,  6.48it/s]\n",
      "*** Saved checkpoint checkpoints/rnn.pt at epoch 35\n",
      "Epoch    35: reducing learning rate of group 0 to 6.2500e-08.\n",
      "ACT I. Some say I.\n",
      "\n",
      "                         Enter the two SERVINGMEN\n",
      "\n",
      "  CAPHIS. He hath not come to\n",
      "--- EPOCH 36/50 ---\n",
      "train_batch (Avg. Loss 0.870, Accuracy 72.5): 100%|███████████████████████████████████████████████████████████████████████████████████| 174/174 [01:13<00:00,  2.36it/s]\n",
      "test_batch (Avg. Loss 1.146, Accuracy 63.7): 100%|██████████████████████████████████████████████████████████████████████████████████████| 19/19 [00:02<00:00,  6.46it/s]\n",
      "Epoch    36: reducing learning rate of group 0 to 3.1250e-09.\n",
      "ACT I. SCENE I.\n",
      "\n",
      "  'Sir Philous. Who hath been that a little honour say\n",
      "  Is that a calf, the same, \n",
      "--- EPOCH 37/50 ---\n",
      "train_batch (Avg. Loss 0.870, Accuracy 72.5): 100%|███████████████████████████████████████████████████████████████████████████████████| 174/174 [01:14<00:00,  2.35it/s]\n",
      "test_batch (Avg. Loss 1.146, Accuracy 63.7): 100%|██████████████████████████████████████████████████████████████████████████████████████| 19/19 [00:02<00:00,  6.45it/s]\n",
      "ACT I. SCENE I.\n",
      "A can play to the Castle.\n",
      "\n",
      "Enter ANTIPHOLUS OF SYRACUSE, soldier, the Duke of Brutus\n",
      "--- EPOCH 38/50 ---\n",
      "train_batch (Avg. Loss 0.870, Accuracy 72.5): 100%|███████████████████████████████████████████████████████████████████████████████████| 174/174 [01:14<00:00,  2.34it/s]\n",
      "test_batch (Avg. Loss 1.146, Accuracy 63.7): 100%|██████████████████████████████████████████████████████████████████████████████████████| 19/19 [00:02<00:00,  6.53it/s]\n",
      "ACT I. SCENE I.\n",
      "\n",
      "                                           Alexandria. The train\n",
      "\n",
      "  OLIVIA. The mor\n",
      "--- EPOCH 39/50 ---\n",
      "train_batch (Avg. Loss 0.870, Accuracy 72.5): 100%|███████████████████████████████████████████████████████████████████████████████████| 174/174 [01:14<00:00,  2.35it/s]\n",
      "test_batch (Avg. Loss 1.146, Accuracy 63.7): 100%|██████████████████████████████████████████████████████████████████████████████████████| 19/19 [00:02<00:00,  6.49it/s]\n",
      "ACT I. SCENE I.\n",
      "\n",
      "Enter Brutus and Carrier.\n",
      "\n",
      "  BANQUO. This is the city of the dead to her.\n",
      "    I wil\n",
      "--- EPOCH 40/50 ---\n",
      "train_batch (Avg. Loss 0.870, Accuracy 72.5): 100%|███████████████████████████████████████████████████████████████████████████████████| 174/174 [01:14<00:00,  2.35it/s]\n",
      "test_batch (Avg. Loss 1.146, Accuracy 63.7): 100%|██████████████████████████████████████████████████████████████████████████████████████| 19/19 [00:02<00:00,  6.51it/s]\n",
      "ACT I.\n",
      "The DUKE'S palace\n",
      "\n",
      "Enter the KING, TRANIO, and SIR HUGH EVANS\n",
      "\n",
      "  FALSTAFF. Mistress Ford, tha\n",
      "--- EPOCH 41/50 ---\n",
      "train_batch (Avg. Loss 0.870, Accuracy 72.5): 100%|███████████████████████████████████████████████████████████████████████████████████| 174/174 [01:13<00:00,  2.35it/s]\n",
      "test_batch (Avg. Loss 1.146, Accuracy 63.7): 100%|██████████████████████████████████████████████████████████████████████████████████████| 19/19 [00:02<00:00,  6.48it/s]\n"
     ]
    },
    {
     "data": {
      "image/png": "[encoded data removed]",
      "text/plain": [
       "<Figure size 1600x1000 with 4 Axes>"
      ]
     },
     "metadata": {},
     "output_type": "display_data"
    }
   ],
   "source": [
    "from cs236781.plot import plot_fit\n",
    "\n",
    "def post_epoch_fn(epoch, train_res, test_res, verbose):\n",
    "    # Update learning rate\n",
    "    scheduler.step(test_res.accuracy)\n",
    "    # Sample from model to show progress\n",
    "    if verbose:\n",
    "        start_seq = \"ACT I.\"\n",
    "        generated_sequence = charnn.generate_from_model(\n",
    "            model, start_seq, 100, (char_to_idx,idx_to_char), T=0.5\n",
    "        )\n",
    "        print(generated_sequence)\n",
    "\n",
    "# Train, unless final checkpoint is found\n",
    "checkpoint_file_final = f'{checkpoint_file}_final.pt'\n",
    "if os.path.isfile(checkpoint_file_final):\n",
    "    print(f'*** Loading final checkpoint file {checkpoint_file_final} instead of training')\n",
    "    saved_state = torch.load(checkpoint_file_final, map_location=device)\n",
    "    model.load_state_dict(saved_state['model_state'])\n",
    "else:\n",
    "    try:\n",
    "        # Print pre-training sampling\n",
    "        print(charnn.generate_from_model(model, \"ACT I.\", 100, (char_to_idx,idx_to_char), T=0.5))\n",
    "\n",
    "        fit_res = trainer.fit(dl_train, dl_test, num_epochs, max_batches=None,\n",
    "                              post_epoch_fn=post_epoch_fn, early_stopping=early_stopping,\n",
    "                              checkpoints=checkpoint_file, print_every=1)\n",
    "        \n",
    "        fig, axes = plot_fit(fit_res)\n",
    "    except KeyboardInterrupt as e:\n",
    "        print('\\n *** Training interrupted by user')"
   ]
  },
  {
   "cell_type": "markdown",
   "metadata": {},
   "source": [
    "### Generating a work of art\n",
    "<a id=part1_8></a>"
   ]
  },
  {
   "cell_type": "markdown",
   "metadata": {},
   "source": [
    "Armed with our fully trained model, let's generate the next Hamlet! You should experiment with modifying the sampling temperature and see what happens.\n",
    "\n",
    "The text you generate should “look” like a Shakespeare play:\n",
    "old-style English words and sentence structure, directions for the actors\n",
    "(like “Exit/Enter”), sections (Act I/Scene III) etc.\n",
    "There will be no coherent plot of course, but it should at least seem like\n",
    "a Shakespearean play when not looking too closely.\n",
    "If this is not what you see, go back, debug and/or and re-train.\n",
    "\n",
    "**TODO**: Specify the generation parameters in the `part1_generation_params()` function within the `hw3/answers.py` module."
   ]
  },
  {
   "cell_type": "code",
   "execution_count": 21,
   "metadata": {},
   "outputs": [
    {
     "name": "stdout",
     "output_type": "stream",
     "text": [
      "ACT I. SCENE I.\n",
      "A calling of the town of Caesar's body\n",
      "\n",
      "ACT I. SCENE I.\n",
      "Before the DUKE'S pass of the towns of the Grecian camp.\n",
      "\n",
      "Enter CHARLES, AENEAS, and ATTENDANTS\n",
      "\n",
      "  FIRST GENTLEMAN. I thank them, but with all the graces of the world.\n",
      "  DUKE. What is the matter?\n",
      "  AUTOLYCUS. I say the truth, sir, to confess the rest was full of courtesy.\n",
      "  SECOND LORD. They will not say no more work less.\n",
      "  THIRD SERVANT. Why, here comes the crown of the Greeks did grow to her.\n",
      "  AUTOLYCUS. Ay, and the wisest belly in the court is not about the\n",
      "    disposition of his presence.\n",
      "  CLOWN. Has cast away the heart of his time, he would have his wit\n",
      "    the seventh of the chain.\n",
      "  DUKE. Then you shall weep for your fair work.\n",
      "  FIRST GENTLEMAN. I am glad to see them think to hear them.\n",
      "  TIMON. I think the King might be a man of them.\n",
      "    Who is it that the Duke of Clarence tells her\n",
      "    As he hath done this weed and break it up,\n",
      "    We should be crown'd with strain of speeches would\n",
      "    Be thus already in the world to come?\n",
      "  MESSENGER. Good now, proud Lord.\n",
      "  BERTRAM. What's he?\n",
      "  PAROLLES. I have heard he came to be call'd to be old and too hard an\n",
      "    breath is the wise than I thought up.\n",
      "  SECOND LORD. I have told my lord of the noble and long about him, but\n",
      "    that the sun sets of him. What a bloody brother is the heart to\n",
      "    meet him for his person, and so long as to one that her husband\n",
      "    of his wife is a gentleman as any man in any consent, that\n",
      "    she has been brought on the wrong to the dead.\n",
      "  COMINIUS. Sir, sir, the Duke hath not to have the chain.\n",
      "    Some of your love I have deserv'd the gentleman\n",
      "    That could not be advis'd the people than\n",
      "    As if I saw him go with you.                          Exit\n",
      "  CLOWN. How do you? What is the matter?\n",
      "  SIR TOBY. No, sir, to see him answer'd.\n",
      "  AGUECHEEK. An easy man of his very heart; and therefore, I will\n",
      "    take him any man that have no judgment of me. But the truth, I\n",
      "    know not what he has much displeas'd and make the water that\n",
      "    had been in love with him.\n",
      "  SIR TOBY. I pray you, sir, you are a great world, sir.\n",
      "  CLOWN. Well then, I will not rest the part of it and the bones.\n",
      "  AGUECHEEK. Ay, sir, and my commander. There is no witness that I\n",
      "    did not think the face of men should be my love and honest.\n",
      "  MARIA. And be at a crow will be merry.\n",
      "  SIR TOBY. Well, he is not four out, I have no words as thou art\n",
      "    so bold to see a month.\n",
      "  AGUECHEEK. An't please you, sir, I will make you fainting on the\n",
      "    state of a man's verity.\n",
      "  CLOWN. Else he is a man of the court of the state.\n",
      "  APEMANTUS. To my fortunes are in a fool; if thou hadst been too\n",
      "    employment; for the world is not the old man, though I am sure\n",
      "    they are too for you; I would not be so confident to the\n",
      "    court that I would have been almost a man as well as your worship\n",
      "    as from a soldier and a spare to a man. The worst is not a baby to\n",
      "    stay themselves in the strangest form, or the time in the time of\n",
      "    the story of the way that often did the other thing they were\n",
      "    grace.\n",
      "  APEMANTUS. That is the capacity of the laws.\n",
      "  APEMANTUS. And it shall be so, and I'll be sworn.\n",
      "                                                            Exeunt\n",
      "\n",
      "SCENE IV.\n",
      "Another part of the field\n",
      "\n",
      "Alarum. Enter MALCOLM, his son\n",
      "\n",
      "  SICINIUS. Here comes the gate\n",
      "    From the whole town is most unlawful of them.\n",
      "  TITUS. The King is past all but out of the heart.\n",
      "  SICINIUS. Why dost thou speak, my lord? I do beseech you\n",
      "    That the profit of muddy parts of yours\n",
      "    Bear the good part of your report. The people\n",
      "    Purpose but to confirm and such a flower,\n",
      "    Which once again receive you by the state\n",
      "    Of happy times at dinner.\n",
      "  SECOND LORD. Here, sir.\n",
      "  FIRST GENTLEMAN. What is the matter? What then?\n",
      "    What is the matter?\n",
      "  ANTONIO. I think it well appear'd to speak with him.\n",
      "  SICINIUS. The Duke himself, as with a woman hath\n",
      "    Since you will see him out of honour\n",
      "    With honour to your voices.\n",
      "  SECOND GENTLEMAN. I hope it is not so with him. He is a sour\n",
      "    devil.\n",
      "  MACBETH. If you had scorn it ready.\n",
      "  FIRST SENATOR. He is before't.\n",
      "    I do not think to see your friend at Servants.\n",
      "    I shall have good him. The best is in hand,\n",
      "    Which will he give him cruel than the law\n",
      "    Which never seem to know.\n",
      "  SECOND CITIZEN. The gods give you the Duke of Burgundy,\n",
      "    Whom he receives me for the Duke of York,\n",
      "    That he is all on him to his master's arm,\n",
      "    And now we both have couch'd it was too long.\n",
      "  LORENZO. I am glad to see the lovely garment off.\n",
      "                                                               Exeunt\n",
      "\n",
      "SCENE III.\n",
      "The palace\n",
      "\n",
      "Enter the CONSPIRATORS and others\n",
      "\n",
      "  AUFIDIUS. I am a raising of my speech.\n",
      "    Will you be satisfied? If you do so?\n",
      "    I am his honest knife't; I do assure you\n",
      "    The perfect statue which you have not seen\n",
      "    The shepherd sent for you. There's not the sea,\n",
      "    And then to see him may his wit to church in\n",
      "    More than my love, and therefore might he die.\n",
      "    You must think understand you, so it cannot\n",
      "    Be so equalities that she should from you\n",
      "    To the deserts of men. I prithee go to-night.\n",
      "                                                         Exeunt\n",
      "\n",
      "SCENE III.\n",
      "Villan.\n",
      "\n",
      "Enter Othello, Cerio, he cannot but decay a tabour\n",
      "\n",
      "  CLOWN. The best stronger give you to himself with her to see him and\n",
      "    the people, and the fairest courtier of a public place that hath\n",
      "    delivered a great assembly with an ass.\n",
      "  MARIANA. You are too sorry to be made a song, sir, to see your\n",
      "    mother.\n",
      "  CLOWN. Say 'a, I cannot tell.\n",
      "  CLOWN. Ay, sir, to be married to be the word. I would the play\n",
      "    for grace.                                                   Exit\n",
      "  BIANCA.  [Aside]  I will not stay therefore, sir.\n",
      "    I have heard of my consent, but you must die.\n",
      "    I will not serve your lordship to the lady.\n",
      "    I will tell you what I should show you more\n",
      "    Than you shall have a boy shall serve a word.\n",
      "    I have not made you both the pains to think\n",
      "    You will not suffer your profession\n",
      "    And make me such an office. And if you be\n",
      "    That you have done this while. O heavenly prayers\n",
      "    Is now unproportion. What shall I do?\n",
      "    He would not say 'I mean to fear the time,\n",
      "    And danger in the mouth of all the world\n",
      "    Are crack'd in the winds, and the sun would see\n",
      "    The famous and the blood of all his lands;\n",
      "    And the young man her swifter calm his head,\n",
      "    And he would lose his heart we have in him.\n",
      "    Come, let us take him any in her love.\n",
      "    If thou beest thinking on the beauteous son\n",
      "    Is not the swelling dangerous steel again,\n",
      "    That in the strongest man of all the world\n",
      "    Found thee not so unsail'd that we will leave thee.\n",
      "    How shall I come to see me with the world\n",
      "    Of my dear son? I have sworn to thee.\n",
      "    I say the truth, I would they were all down.\n",
      "    Who seeks a speedy brother? Make a fool, and thus\n",
      "    Thou hast not spoke with some more sailors, which\n",
      "    I should to have thee so supply a free\n",
      "    That we have seen in thine. Thou art a fool\n",
      "    That thou shalt be revenged on thy face.\n",
      "    I would not be a man, and my blood speaks.\n",
      "    I say the gods forbid thee to a fury of\n",
      "    It will not come. Proceed, I pray thee, worthy Marcius!\n",
      "    I would not be a present she to me,\n",
      "    The soldier of the beauty of my heart\n",
      "    As thou mayst shine in sight. I know not what\n",
      "    I would not love thee.\n",
      "  SIR TOBY. A sennet. I have seen thee well.\n",
      "  SIR TOBY. O, being the cause that should be a beast that I were a\n",
      "    man and a man of any hand, though the boar will not be false.\n",
      "  POMPEY. I pray thee be not dangerous to the people, that I have a\n",
      "    man to be paid for them.\n",
      "  TIMON. Why, thou wert disorder that think me the show\n",
      "    Of the market-place.  \n",
      "  MENENIUS. What is thy name?\n",
      "  TIMON. And therefore were not you the wind of the world,\n",
      "    And with the shadow of a month, a lady\n",
      "    That hath discover'd them. The gods forbid\n",
      "    The part of this same place, nor with this life\n",
      "    Be short a cast up from our enemies.\n",
      "    [To ANTONIO]  Our duty that is worse than have you had\n",
      "    been a good soldier to come from the world.\n",
      "  COUNTESS. Have you the honest man?\n",
      "  SECOND LORD. [Aside] I would they are not fourteen.  \n",
      "  SECOND LORD. I have been the best wine and the world never believe\n",
      "    that we will make thee ransom than the poor cheer, and the\n",
      "      gentleman of a gentlewoman, but they are in the wall.\n",
      "    Therefore please you to woo her.\n",
      "  SECOND LORD. I'll be your superfluity. You are to be bold to be\n",
      "    broken; he shall be here in the best wine and the little wit.\n",
      "  SIR TOBY. How now, my masters! Have I had neither man, I say!\n",
      "    I have spoke with you both my folly, lady, you must come to\n",
      "    right.\n",
      "  BAPTISTA. With marry her it is, sir.\n",
      "  AUDREY. He will stay down to me that I have told you every man that\n",
      "    should be his wife.\n",
      "  ARMADO. Ay, sir, that I have to do well. But how is't come to\n",
      "    the love of his life?\n",
      "  BOY. I saw him any man that had not been drinking of such a bawd\n",
      "    cannot be considered. I was the heart of a compass of his\n",
      "    contemplation. I shall be better than wit, and so fare you well.\n",
      "                                                            Exit SERVANT\n",
      "  MARIA. How now, my lord?\n",
      "  SIR TOBY. Go, Bishop, and I think there was no profit for the\n",
      "    state of late with what he should be acknowledge the contrary.\n",
      "    Then there is no more tale to see it.\n",
      "  SIR TOBY. A good devil himself will take my leave of him.\n",
      "                                                           Exeunt\n",
      "\n",
      "SCENE II.\n",
      "The DUKE'S palace\n",
      "\n",
      "Enter TROILUS and CLOWN\n",
      "\n",
      "  COUNTESS. I will be friends with him, and the best complaints of my\n",
      "    honour with my love a beast.\n",
      "  SIR TOBY. [Sings] O well said, man, where is thy name?\n",
      "  FIRST SOLDIER. 'Tis a brother of the Moor.\n",
      "  CLOWN. I must tell you what. Will you go to bed?\n",
      "  VALENTINE. Not all the world, my lord, and my consent to the\n",
      "    court, to the purpose of the world.\n",
      "  VIOLA.\n"
     ]
    }
   ],
   "source": [
    "from hw3.answers import part1_generation_params\n",
    "\n",
    "start_seq, temperature = part1_generation_params()\n",
    "\n",
    "generated_sequence = charnn.generate_from_model(\n",
    "    model, start_seq, 10000, (char_to_idx,idx_to_char), T=temperature\n",
    ")\n",
    "\n",
    "print(generated_sequence)"
   ]
  },
  {
   "cell_type": "markdown",
   "metadata": {},
   "source": [
    "## Questions\n",
    "<a id=part1_9></a>"
   ]
  },
  {
   "cell_type": "markdown",
   "metadata": {},
   "source": [
    "**TODO** Answer the following questions. Write your answers in the appropriate variables in the module `hw3/answers.py`."
   ]
  },
  {
   "cell_type": "code",
   "execution_count": 22,
   "metadata": {},
   "outputs": [],
   "source": [
    "from cs236781.answers import display_answer\n",
    "import hw3.answers"
   ]
  },
  {
   "cell_type": "markdown",
   "metadata": {},
   "source": [
    "### Question 1\n",
    "Why do we split the corpus into sequences instead of training on the whole text?"
   ]
  },
  {
   "cell_type": "code",
   "execution_count": 23,
   "metadata": {},
   "outputs": [
    {
     "data": {
      "text/markdown": [
       "\n",
       "**Answer:**\n",
       "\n",
       "The entire text is too large for the model to handle at once due to memory limits.\n",
       "Working with sequences helps the model focus on the connections between nearby sentences\n",
       "and makes it easier to pick up on relevant patterns without getting overwhelmed by irrelevant details.\n",
       "It also prevents technical issues like vanishing or exploding gradients, which makes the training process smoother and more efficient.\n"
      ],
      "text/plain": [
       "<IPython.core.display.Markdown object>"
      ]
     },
     "metadata": {},
     "output_type": "display_data"
    }
   ],
   "source": [
    "display_answer(hw3.answers.part1_q1)"
   ]
  },
  {
   "cell_type": "markdown",
   "metadata": {},
   "source": [
    "### Question 2\n",
    "How is it possible that the generated text clearly shows memory longer than the sequence length?"
   ]
  },
  {
   "cell_type": "code",
   "execution_count": 24,
   "metadata": {},
   "outputs": [
    {
     "data": {
      "text/markdown": [
       "\n",
       "**Answer:**\n",
       "\n",
       "This happens because the model keeps a hidden state that carries information from earlier batches.\n",
       "This lets it access context beyond the current sequence and incorporate it into the generated text.\n",
       "The hidden state is updated at each step based on the current input and the previous hidden state,\n",
       "which allows the model to maintain a coherent narrative throughout the generation process.\n"
      ],
      "text/plain": [
       "<IPython.core.display.Markdown object>"
      ]
     },
     "metadata": {},
     "output_type": "display_data"
    }
   ],
   "source": [
    "display_answer(hw3.answers.part1_q2)"
   ]
  },
  {
   "cell_type": "markdown",
   "metadata": {},
   "source": [
    "### Question 3\n",
    "Why are we not shuffling the order of batches when training?"
   ]
  },
  {
   "cell_type": "code",
   "execution_count": 25,
   "metadata": {},
   "outputs": [
    {
     "data": {
      "text/markdown": [
       "\n",
       "**Answer:**\n",
       "\n",
       "We don't suffle the order of batches becuase the model relies on the sequential nature of the text to learn patterns and generate coherent text.\n",
       "And because the we are given a text in English, which is a language that relies heavily on word order to convey meaning.\n",
       "Thus the model needs to see the text in the correct order to learn how to generate text that makes sense.\n"
      ],
      "text/plain": [
       "<IPython.core.display.Markdown object>"
      ]
     },
     "metadata": {},
     "output_type": "display_data"
    }
   ],
   "source": [
    "display_answer(hw3.answers.part1_q3)"
   ]
  },
  {
   "cell_type": "markdown",
   "metadata": {},
   "source": [
    "### Question 4\n",
    "1. Why do we lower the temperature for sampling (compared to the default of $1.0$)?\n",
    "2. What happens when the temperature is very high and why?\n",
    "3. What happens when the temperature is very low and why?"
   ]
  },
  {
   "cell_type": "code",
   "execution_count": 26,
   "metadata": {},
   "outputs": [
    {
     "data": {
      "text/markdown": [
       "\n",
       "**Answer:**\n",
       "\n",
       "1.  The temperature parameter controls the randomness of the generated text.\n",
       "    - A higher temperature increases the randomness, which can lead to more diverse but less coherent text.\n",
       "    - A lower temperature makes the text more predictable and coherent but less creative.\n",
       "    \n",
       "    So lowering the temperature can help the model generate more coherent text that follows the patterns in the training data.\n",
       "    \n",
       "2.  When the temperature is very high, the probability distribution becomes more uniform, which means that all words are equally likely to be chosen, regardless of their scores.\n",
       "    This can lead to more random and less coherent text because the model is less constrained by the patterns in the training data.\n",
       "    \n",
       "3.  When the temperature is very low, the probability distribution becomes more peaked, which means that the words with the highest scores are more likely to be chosen.\n",
       "    This can lead to more predictable and coherent text because the model is more likely to choose the most probable words based on the training data.\n",
       "    But it can also lead to repetitive output.\n",
       "\n"
      ],
      "text/plain": [
       "<IPython.core.display.Markdown object>"
      ]
     },
     "metadata": {},
     "output_type": "display_data"
    }
   ],
   "source": [
    "display_answer(hw3.answers.part1_q4)"
   ]
  },
  {
   "cell_type": "code",
   "execution_count": null,
   "metadata": {},
   "outputs": [],
   "source": []
  },
  {
   "cell_type": "code",
   "execution_count": null,
   "metadata": {},
   "outputs": [],
   "source": []
  }
 ],
 "metadata": {
  "kernelspec": {
   "display_name": "Python 3 (ipykernel)",
   "language": "python",
   "name": "python3"
  },
  "language_info": {
   "codemirror_mode": {
    "name": "ipython",
    "version": 3
   },
   "file_extension": ".py",
   "mimetype": "text/x-python",
   "name": "python",
   "nbconvert_exporter": "python",
   "pygments_lexer": "ipython3",
   "version": "3.8.12"
  }
 },
 "nbformat": 4,
 "nbformat_minor": 4
}
